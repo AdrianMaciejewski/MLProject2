{
 "cells": [
  {
   "cell_type": "code",
   "execution_count": 5,
   "metadata": {},
   "outputs": [
    {
     "data": {
      "text/plain": [
       "{0.0490842863677074: 1, 1.28402771363229: 1}"
      ]
     },
     "metadata": {},
     "output_type": "display_data"
    },
    {
     "data": {
      "text/plain": [
       "[(0.0490842863677074,\n",
       "  1,\n",
       "  [Matrix([\n",
       "   [ 0.735178675299162],\n",
       "   [-0.677873377103253]])]),\n",
       " (1.28402771363229,\n",
       "  1,\n",
       "  [Matrix([\n",
       "   [0.677873377103253],\n",
       "   [0.735178675299162]])])]"
      ]
     },
     "metadata": {},
     "output_type": "display_data"
    }
   ],
   "source": [
    "from sympy import *\n",
    "\n",
    "# Define the matrix\n",
    "matrix = Matrix([[0.616556, 0.615444], [0.615444, 0.716556]])\n",
    "\n",
    "# Calculate eigenvalues and eigenvectors\n",
    "eigenvals = matrix.eigenvals()\n",
    "eigenvects = matrix.eigenvects()\n",
    "\n",
    "display(eigenvals)\n",
    "display(eigenvects)"
   ]
  },
  {
   "cell_type": "code",
   "execution_count": 8,
   "metadata": {},
   "outputs": [
    {
     "data": {
      "text/latex": [
       "$\\displaystyle \\left[\\begin{matrix}0.735178675299162 & 0.677873377103253\\\\-0.677873377103253 & 0.735178675299162\\end{matrix}\\right]$"
      ],
      "text/plain": [
       "Matrix([\n",
       "[ 0.735178675299162, 0.677873377103253],\n",
       "[-0.677873377103253, 0.735178675299162]])"
      ]
     },
     "metadata": {},
     "output_type": "display_data"
    }
   ],
   "source": [
    "# Extract eigenvectors from eigenvects\n",
    "eigenvectors = [vec[2][0] for vec in eigenvects]\n",
    "\n",
    "# Create a matrix of eigenvectors\n",
    "eigenvectors_matrix = Matrix.hstack(*eigenvectors)\n",
    "display(eigenvectors_matrix)"
   ]
  },
  {
   "cell_type": "code",
   "execution_count": 11,
   "metadata": {},
   "outputs": [
    {
     "data": {
      "text/latex": [
       "$\\displaystyle \\left[\\begin{matrix}1.0 & 0\\\\0 & 1.0\\end{matrix}\\right]$"
      ],
      "text/plain": [
       "Matrix([\n",
       "[1.0,   0],\n",
       "[  0, 1.0]])"
      ]
     },
     "execution_count": 11,
     "metadata": {},
     "output_type": "execute_result"
    }
   ],
   "source": [
    "eigenvectors_matrix*eigenvectors_matrix.T"
   ]
  },
  {
   "cell_type": "code",
   "execution_count": 12,
   "metadata": {},
   "outputs": [
    {
     "data": {
      "text/latex": [
       "$\\displaystyle \\left[\\begin{matrix}1.0 & -1.11022302462516 \\cdot 10^{-16}\\\\1.11022302462516 \\cdot 10^{-16} & 1.0\\end{matrix}\\right]$"
      ],
      "text/plain": [
       "Matrix([\n",
       "[                 1.0, -1.11022302462516e-16],\n",
       "[1.11022302462516e-16,                   1.0]])"
      ]
     },
     "execution_count": 12,
     "metadata": {},
     "output_type": "execute_result"
    }
   ],
   "source": [
    "eigenvectors_matrix*eigenvectors_matrix.inv()"
   ]
  }
 ],
 "metadata": {
  "kernelspec": {
   "display_name": ".venv",
   "language": "python",
   "name": "python3"
  },
  "language_info": {
   "codemirror_mode": {
    "name": "ipython",
    "version": 3
   },
   "file_extension": ".py",
   "mimetype": "text/x-python",
   "name": "python",
   "nbconvert_exporter": "python",
   "pygments_lexer": "ipython3",
   "version": "3.11.5"
  }
 },
 "nbformat": 4,
 "nbformat_minor": 2
}
